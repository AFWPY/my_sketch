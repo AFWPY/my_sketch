{
 "cells": [
  {
   "cell_type": "code",
   "execution_count": null,
   "id": "6e7c7024-d136-425c-9d63-7278c32f4034",
   "metadata": {
    "tags": []
   },
   "outputs": [],
   "source": [
    "!python3 train.py --dataroot ./data/ --name VQCB "
   ]
  },
  {
   "cell_type": "code",
   "execution_count": 1,
   "id": "56f261f5-47ab-4650-85ea-a9ed6eda458c",
   "metadata": {},
   "outputs": [
    {
     "name": "stdout",
     "output_type": "stream",
     "text": [
      "/home/hp/anaconda3/envs/yang/lib/python3.11/site-packages/torch/nn/parallel/_functions.py:68: UserWarning: Was asked to gather along dimension 0, but all input tensors were scalars; will instead unsqueeze and return a vector.\n",
      "  warnings.warn('Was asked to gather along dimension 0, but all '\n",
      "^C\n"
     ]
    }
   ],
   "source": [
    "!python3 train.py --dataroot ./data/ --name VQCBtest --gpu_ids 0,1 >> checkpoints/output/VQCBtest.txt"
   ]
  },
  {
   "cell_type": "code",
   "execution_count": 5,
   "metadata": {},
   "outputs": [
    {
     "name": "stdout",
     "output_type": "stream",
     "text": [
      "state_dict\n",
      "arch\n",
      "epoch\n"
     ]
    }
   ],
   "source": [
    "import torch\n",
    "\n",
    "# 加载状态字典\n",
    "state_dict = torch.load('./moco_pre/moco_v2_800ep_pretrain.pth')\n",
    "\n",
    "# 遍历状态字典\n",
    "for param_tensor in state_dict:\n",
    "    print(param_tensor)"
   ]
  }
 ],
 "metadata": {
  "kernelspec": {
   "display_name": "yang",
   "language": "python",
   "name": "python3"
  },
  "language_info": {
   "codemirror_mode": {
    "name": "ipython",
    "version": 3
   },
   "file_extension": ".py",
   "mimetype": "text/x-python",
   "name": "python",
   "nbconvert_exporter": "python",
   "pygments_lexer": "ipython3",
   "version": "3.11.5"
  }
 },
 "nbformat": 4,
 "nbformat_minor": 5
}
