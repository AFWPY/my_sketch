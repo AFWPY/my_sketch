{
 "cells": [
  {
   "cell_type": "code",
   "execution_count": null,
   "id": "6e7c7024-d136-425c-9d63-7278c32f4034",
   "metadata": {
    "tags": []
   },
   "outputs": [],
   "source": [
    "!python3 train.py --dataroot ./data/ --name VQCB "
   ]
  },
  {
   "cell_type": "code",
   "execution_count": 29,
   "id": "56f261f5-47ab-4650-85ea-a9ed6eda458c",
   "metadata": {},
   "outputs": [
    {
     "name": "stdout",
     "output_type": "stream",
     "text": [
      "^C\n",
      "Traceback (most recent call last):\n",
      "  File \"/home/hp/yang/VQ-Font-main - 副本/train.py\", line 90, in <module>\n",
      "    main()\n",
      "  File \"/home/hp/yang/VQ-Font-main - 副本/train.py\", line 86, in main\n",
      "    train(opt)\n",
      "  File \"/home/hp/yang/VQ-Font-main - 副本/train.py\", line 60, in train\n",
      "    model.set_input(data)         # unpack data from dataset and apply preprocessing\n",
      "    ^^^^^^^^^^^^^^^^^^^^^\n",
      "  File \"/home/hp/yang/VQ-Font-main - 副本/model/model.py\", line 40, in set_input\n",
      "    self.style= input['A'].to(self.device)\n",
      "                ^^^^^^^^^^^^^^^^^^^^^^^^^^\n",
      "KeyboardInterrupt\n"
     ]
    }
   ],
   "source": [
    "!python3 train.py --dataroot ./data/ --name VQCB1 --gpu_ids 0,1 >> checkpoints/output/VQCB1.txt"
   ]
  }
 ],
 "metadata": {
  "kernelspec": {
   "display_name": "yang",
   "language": "python",
   "name": "python3"
  },
  "language_info": {
   "codemirror_mode": {
    "name": "ipython",
    "version": 3
   },
   "file_extension": ".py",
   "mimetype": "text/x-python",
   "name": "python",
   "nbconvert_exporter": "python",
   "pygments_lexer": "ipython3",
   "version": "3.11.5"
  }
 },
 "nbformat": 4,
 "nbformat_minor": 5
}
