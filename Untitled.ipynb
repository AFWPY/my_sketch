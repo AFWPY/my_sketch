{
 "cells": [
  {
   "cell_type": "code",
   "execution_count": null,
   "id": "6e7c7024-d136-425c-9d63-7278c32f4034",
   "metadata": {
    "tags": []
   },
   "outputs": [],
   "source": [
    "!python3 train.py --dataroot ./data/ --name VQCB "
   ]
  },
  {
   "cell_type": "code",
   "execution_count": 3,
   "id": "03d82552-88d9-4664-be8e-56f87a9ff172",
   "metadata": {
    "tags": []
   },
   "outputs": [
    {
     "name": "stdout",
     "output_type": "stream",
     "text": [
      "/nfs/home/pengyang/.conda/envs/yang/lib/python3.8/site-packages/torch/nn/functional.py:718: UserWarning: Named tensors and all their associated APIs are an experimental feature and subject to change. Please do not use them for anything important until they are released as stable. (Triggered internally at  /opt/conda/conda-bld/pytorch_1623448278899/work/c10/core/TensorImpl.h:1156.)\n",
      "  return torch.max_pool2d(input, kernel_size, stride, padding, dilation, ceil_mode)\n",
      "Traceback (most recent call last):\n",
      "  File \"vq_gan.py\", line 398, in <module>\n",
      "    model.optimize_parameters(epoch)\n",
      "  File \"vq_gan.py\", line 295, in optimize_parameters\n",
      "    self.backward_G(i)             # calculate gradients for G_A and G_B\n",
      "  File \"vq_gan.py\", line 254, in backward_G\n",
      "    self.loss_photo = self.loss_precs + self.loss_G_content + self.loss_G_content_rec*1000 + self.vq_loss_p\n",
      "  File \"/nfs/home/pengyang/.conda/envs/yang/lib/python3.8/site-packages/torch/nn/modules/module.py\", line 1130, in __getattr__\n",
      "    raise AttributeError(\"'{}' object has no attribute '{}'\".format(\n",
      "AttributeError: 'model' object has no attribute 'loss_G_content_rec'\n"
     ]
    }
   ],
   "source": [
    "!python3 vq_gan.py --name VQCB1 --dataroot ./data/CUHK/ "
   ]
  },
  {
   "cell_type": "code",
   "execution_count": 1,
   "id": "56f261f5-47ab-4650-85ea-a9ed6eda458c",
   "metadata": {},
   "outputs": [
    {
     "name": "stdout",
     "output_type": "stream",
     "text": [
      "/home/hp/anaconda3/envs/yang/lib/python3.11/site-packages/torch/nn/parallel/_functions.py:68: UserWarning: Was asked to gather along dimension 0, but all input tensors were scalars; will instead unsqueeze and return a vector.\n",
      "  warnings.warn('Was asked to gather along dimension 0, but all '\n",
      "^C\n"
     ]
    }
   ],
   "source": [
    "!python3 train.py --dataroot ./data/ --name VQCBtest --gpu_ids 0,1 >> checkpoints/output/VQCBtest.txt"
   ]
  },
  {
   "cell_type": "code",
   "execution_count": 5,
   "id": "8191e81d",
   "metadata": {},
   "outputs": [
    {
     "name": "stdout",
     "output_type": "stream",
     "text": [
      "state_dict\n",
      "arch\n",
      "epoch\n"
     ]
    }
   ],
   "source": [
    "import torch\n",
    "\n",
    "# 加载状态字典\n",
    "state_dict = torch.load('./moco_pre/moco_v2_800ep_pretrain.pth')\n",
    "\n",
    "# 遍历状态字典\n",
    "for param_tensor in state_dict:\n",
    "    print(param_tensor)"
   ]
  }
 ],
 "metadata": {
  "kernelspec": {
   "display_name": "yang (ipykernel)",
   "language": "python",
   "name": "python3"
  },
  "language_info": {
   "codemirror_mode": {
    "name": "ipython",
    "version": 3
   },
   "file_extension": ".py",
   "mimetype": "text/x-python",
   "name": "python",
   "nbconvert_exporter": "python",
   "pygments_lexer": "ipython3",
   "version": "3.8.10"
  }
 },
 "nbformat": 4,
 "nbformat_minor": 5
}
