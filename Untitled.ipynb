{
 "cells": [
  {
   "cell_type": "code",
   "execution_count": null,
   "id": "6e7c7024-d136-425c-9d63-7278c32f4034",
   "metadata": {
    "tags": []
   },
   "outputs": [],
   "source": [
    "!python3 train.py --dataroot ./data/ --name VQCB "
   ]
  },
  {
   "cell_type": "code",
   "execution_count": 20,
   "id": "56f261f5-47ab-4650-85ea-a9ed6eda458c",
   "metadata": {},
   "outputs": [],
   "source": [
    "!python3 train.py --dataroot ./data/ --name VQCB2>>checkpoints/output/VQCB2.txt"
   ]
  },
  {
   "cell_type": "code",
   "execution_count": null,
   "metadata": {},
   "outputs": [],
   "source": [
    "!python3 train.py --dataroot ./data/ --name VQCB3 --gpu_ids 1>> checkpoints/output/VQCB3.txt"
   ]
  }
 ],
 "metadata": {
  "kernelspec": {
   "display_name": "yang",
   "language": "python",
   "name": "python3"
  },
  "language_info": {
   "codemirror_mode": {
    "name": "ipython",
    "version": 3
   },
   "file_extension": ".py",
   "mimetype": "text/x-python",
   "name": "python",
   "nbconvert_exporter": "python",
   "pygments_lexer": "ipython3",
   "version": "3.11.5"
  }
 },
 "nbformat": 4,
 "nbformat_minor": 5
}
